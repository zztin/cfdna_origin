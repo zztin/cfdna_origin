{
 "cells": [
  {
   "cell_type": "code",
   "execution_count": null,
   "metadata": {},
   "outputs": [],
   "source": [
    "#!pip install pysam matplotlib"
   ]
  },
  {
   "cell_type": "code",
   "execution_count": 5,
   "metadata": {},
   "outputs": [],
   "source": [
    "import pysam\n",
    "import collections\n",
    "import matplotlib.pyplot as plt"
   ]
  },
  {
   "cell_type": "code",
   "execution_count": 12,
   "metadata": {},
   "outputs": [],
   "source": [
    "bam = \"/Users/lchen/current_projects/concall-working/results/circular/DER5088_double.tagged.sorted.bam\"\n",
    "bamfile = pysam.AlignmentFile(bam, \"rb\" )\n"
   ]
  },
  {
   "cell_type": "code",
   "execution_count": 18,
   "metadata": {},
   "outputs": [
    {
     "name": "stdout",
     "output_type": "stream",
     "text": [
      "e03bd241-5c6e-4c00-9328-54c2688a3be1\n"
     ]
    }
   ],
   "source": [
    "for read in bamfile:\n",
    "    if read.is_reverse:\n",
    "        print(read.qname)\n",
    "        break"
   ]
  },
  {
   "cell_type": "code",
   "execution_count": 39,
   "metadata": {},
   "outputs": [
    {
     "data": {
      "text/plain": [
       "'AGATT'"
      ]
     },
     "execution_count": 39,
     "metadata": {},
     "output_type": "execute_result"
    }
   ],
   "source": [
    "read.get_forward_sequence()[0:5]\n"
   ]
  },
  {
   "cell_type": "code",
   "execution_count": 21,
   "metadata": {},
   "outputs": [],
   "source": [
    "rev3 = collections.Counter()"
   ]
  },
  {
   "cell_type": "code",
   "execution_count": 22,
   "metadata": {},
   "outputs": [
    {
     "data": {
      "text/plain": [
       "Counter()"
      ]
     },
     "execution_count": 22,
     "metadata": {},
     "output_type": "execute_result"
    }
   ],
   "source": [
    "rev3"
   ]
  },
  {
   "cell_type": "code",
   "execution_count": 32,
   "metadata": {},
   "outputs": [],
   "source": [
    "dictionary_1 = collections.defaultdict()"
   ]
  },
  {
   "cell_type": "code",
   "execution_count": 36,
   "metadata": {},
   "outputs": [],
   "source": [
    "dictionary_1['class'] =[1,2,3]"
   ]
  },
  {
   "cell_type": "code",
   "execution_count": 37,
   "metadata": {},
   "outputs": [
    {
     "data": {
      "text/plain": [
       "defaultdict(None, {'Numbers': 'hey', 'names': 'inez', 'class': [1, 2, 3]})"
      ]
     },
     "execution_count": 37,
     "metadata": {},
     "output_type": "execute_result"
    }
   ],
   "source": [
    "dictionary_1"
   ]
  },
  {
   "cell_type": "code",
   "execution_count": null,
   "metadata": {},
   "outputs": [],
   "source": []
  },
  {
   "cell_type": "code",
   "execution_count": 6,
   "metadata": {},
   "outputs": [],
   "source": [
    "def get_motif(bam, last_n, subsample = False):\n",
    "    \n",
    "    rev3 = collections.Counter()\n",
    "    rev5 = collections.Counter()\n",
    "    fwd3= collections.Counter()\n",
    "    fwd5= collections.Counter()\n",
    "    samfile = pysam.AlignmentFile(bam, \"rb\" )\n",
    "    i = 0\n",
    "    for read in samfile:\n",
    "    #     print(read)\n",
    "        # always from outer to inter\n",
    "        if read.is_reverse:\n",
    "            rev5[read.get_forward_sequence()[0:last_n]] +=1 \n",
    "            n =len(read.get_forward_sequence())-last_n\n",
    "            se = read.get_forward_sequence()[:n-1:-1]\n",
    "            rev3[se] +=1\n",
    "        else:\n",
    "            fwd5[read.get_forward_sequence()[0:last_n]] +=1 \n",
    "            # from 5' to 3' direction\n",
    "            n =len(read.get_forward_sequence())-last_n\n",
    "            se = read.get_forward_sequence()[:n-1:-1]\n",
    "            fwd3[se] +=1\n",
    "        i += 1\n",
    "        if subsample:\n",
    "            if i > subsample:\n",
    "                break\n",
    "    motif = {\"rev3\":rev3, \"rev5\":rev5, \"fwd3\":fwd3,\"fwd5\":fwd5}\n",
    "    return motif\n"
   ]
  },
  {
   "cell_type": "code",
   "execution_count": 7,
   "metadata": {},
   "outputs": [],
   "source": [
    "def plot_kmer_dist(motifs, ind, colors=['blue', \"red\", \"teal\", \"yellow\"], relative = True, figsize = (10,4)):\n",
    "    plt.figure(figsize=figsize)\n",
    "    for i, x in enumerate(motifs):\n",
    "        if relative:\n",
    "            sum_total = sum(x.values())\n",
    "        else:\n",
    "            sum_total = 1\n",
    "        # x labels should be predefined. (combination of ATGC sorted with alphabetical orders.)\n",
    "        plt.bar([k for k,v in  sorted(x.items())],[v/sum_total for k,v in  sorted(x.items())], \n",
    "                label = f\"{ind[i]}\", \n",
    "                alpha=0.3, \n",
    "                color = colors[i]) \n",
    "    plt.xticks( rotation='vertical')\n",
    "    plt.legend()\n",
    "    plt.show()\n"
   ]
  },
  {
   "cell_type": "code",
   "execution_count": 8,
   "metadata": {},
   "outputs": [],
   "source": [
    "def plot_all(df, figsize= (10,4)):    \n",
    "    plot_kmer_dist([df['fwd5'],df['rev5']],[\"fwd 5 prime end\", \"rev 5 prime end\"], [ \"red\", \"yellow\"], figsize= figsize)\n",
    "    plot_kmer_dist([df['fwd3'],df['rev3']],[\"fwd 3 prime end\", \"rev 3 prime end\"], [ \"blue\", \"teal\"], figsize= figsize)\n",
    "    plot_kmer_dist([df['fwd5'],df['fwd3']],[\"fwd 5 prime end\", \"fwd 3' prime end\"], [ \"red\", \"blue\"], figsize= figsize)\n",
    "    plot_kmer_dist([df['rev5'],df['rev3']],\n",
    "                   [\"rev 5 prime end\", \"rev 3' prime end\"], [ \"teal\", \"yellow\"], figsize= figsize)\n"
   ]
  },
  {
   "cell_type": "code",
   "execution_count": 9,
   "metadata": {},
   "outputs": [
    {
     "data": {
      "image/png": "[encoded data removed]",
      "text/plain": [
       "<Figure size 576x288 with 1 Axes>"
      ]
     },
     "metadata": {
      "needs_background": "light"
     },
     "output_type": "display_data"
    },
    {
     "data": {
      "image/png": "[encoded data removed]",
      "text/plain": [
       "<Figure size 576x288 with 1 Axes>"
      ]
     },
     "metadata": {
      "needs_background": "light"
     },
     "output_type": "display_data"
    },
    {
     "data": {
      "image/png": "[encoded data removed]",
      "text/plain": [
       "<Figure size 576x288 with 1 Axes>"
      ]
     },
     "metadata": {
      "needs_background": "light"
     },
     "output_type": "display_data"
    },
    {
     "data": {
      "image/png": "[encoded data removed]",
      "text/plain": [
       "<Figure size 576x288 with 1 Axes>"
      ]
     },
     "metadata": {
      "needs_background": "light"
     },
     "output_type": "display_data"
    }
   ],
   "source": [
    "bam = \"/Users/lchen/current_projects/concall-working/results/circular/DER5088_double.tagged.sorted.bam\"\n",
    "DER5088_2mer  = get_motif(bam, 2)\n",
    "plot_all(DER5088_2mer, figsize = (8,4))"
   ]
  },
  {
   "cell_type": "code",
   "execution_count": null,
   "metadata": {},
   "outputs": [],
   "source": [
    "# 1. comment the code\n",
    "# 2. generate random cfDNA\n",
    "   # - 50 bp  of random sequneces of 10,000,000 reads.\n",
    "   #  random generation of cfDNA length of normal distribution around 167bp, from the genome. (not for today) \n",
    "# 3. reverse complement : make reverse strand to foward strand. \n"
   ]
  }
 ],
 "metadata": {
  "kernelspec": {
   "display_name": "Python [conda env:gwc] *",
   "language": "python",
   "name": "conda-env-gwc-py"
  },
  "language_info": {
   "codemirror_mode": {
    "name": "ipython",
    "version": 3
   },
   "file_extension": ".py",
   "mimetype": "text/x-python",
   "name": "python",
   "nbconvert_exporter": "python",
   "pygments_lexer": "ipython3",
   "version": "3.7.8"
  }
 },
 "nbformat": 4,
 "nbformat_minor": 4
}
